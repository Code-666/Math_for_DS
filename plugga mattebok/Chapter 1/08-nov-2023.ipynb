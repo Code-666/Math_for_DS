{
 "cells": [
  {
   "cell_type": "markdown",
   "id": "ba11439e",
   "metadata": {},
   "source": [
    "# Chapter 1: Basic Math and Calculus Review"
   ]
  },
  {
   "cell_type": "markdown",
   "id": "ac2a48b3",
   "metadata": {},
   "source": [
    "### Number Theory"
   ]
  },
  {
   "cell_type": "markdown",
   "id": "527a1ccd",
   "metadata": {},
   "source": [
    "This area of math where we muse about numbers and why we designed them a certain way is known as number theory"
   ]
  },
  {
   "cell_type": "markdown",
   "id": "25d0f9f3",
   "metadata": {},
   "source": [
    "Here are diffrent number systems:\n",
    "    \n",
    "<b>Natural numbers</b>\n",
    "1, 2, 3, 4, 5...and so on. Only positive numbers...\n",
    "\n",
    "<b>Whole numbers</b>\n",
    "Adds 0. Numbers greater then 9: \"10\", \"1,000\" or \"1,090\"\n",
    "\n",
    "<b>Integers</b>\n",
    "Includes both positive and negative natural numbers as well as 0.\n",
    "\n",
    "<b>Rational numbers</b>\n",
    "Any number that you can express as a fraction, such as 2/3. Includes all finite decimals and integers.\n",
    "\n",
    "<b>Irrational numbers</b>\n",
    "Cannot be expressed as a fraction. Includes π, square roots of certain numbers like $\\sqrt{2}$, and Euler's number $e$ \n",
    "\n",
    "<b>Real numbers</b>\n",
    "Include rational and irrational numbers.\n",
    "\n",
    "<b>Complex and imaginary numbers</b>\n",
    "Encounterd when take the square root of a negative number. While complex and imaginary numbers have relevance in certain problems, we will mostly steer clear of them."
   ]
  },
  {
   "cell_type": "markdown",
   "id": "d6bd845e",
   "metadata": {},
   "source": [
    "### Order of Operations"
   ]
  },
  {
   "cell_type": "markdown",
   "id": "01176773",
   "metadata": {},
   "source": [
    "parenheses, exponents, multiplication, division, addition, and subtraction"
   ]
  },
  {
   "cell_type": "code",
   "execution_count": 1,
   "id": "680ec66c",
   "metadata": {},
   "outputs": [
    {
     "name": "stdout",
     "output_type": "stream",
     "text": [
      "6.0\n"
     ]
    }
   ],
   "source": [
    "my_value = 2*(3+2)**2 / 5 - 4\n",
    "print(my_value)"
   ]
  },
  {
   "cell_type": "code",
   "execution_count": 2,
   "id": "4a9d9344",
   "metadata": {},
   "outputs": [
    {
     "name": "stdout",
     "output_type": "stream",
     "text": [
      "6.0\n"
     ]
    }
   ],
   "source": [
    "my_value = 2 * ((3+2)**2 / 5) - 4\n",
    "print(my_value)"
   ]
  },
  {
   "cell_type": "markdown",
   "id": "923f281b",
   "metadata": {},
   "source": [
    "### Variables"
   ]
  },
  {
   "cell_type": "markdown",
   "id": "212271d0",
   "metadata": {},
   "source": [
    "In mathematics, a <i>variable</i> is a named placeholder for an unspecified or unknown number"
   ]
  },
  {
   "cell_type": "code",
   "execution_count": 6,
   "id": "1cdfb307",
   "metadata": {},
   "outputs": [
    {
     "name": "stdout",
     "output_type": "stream",
     "text": [
      "Please input a number\n",
      "4\n",
      "3 * 4  =  12\n"
     ]
    }
   ],
   "source": [
    "x = int(input(\"Please input a number\\n\"))\n",
    "\n",
    "product = 3 * x\n",
    "\n",
    "print(\"3 *\", x, \" = \", product)"
   ]
  },
  {
   "cell_type": "code",
   "execution_count": 7,
   "id": "43e7a5c4",
   "metadata": {},
   "outputs": [],
   "source": [
    "beta = 1.75\n",
    "theta = 30.0"
   ]
  },
  {
   "cell_type": "code",
   "execution_count": 8,
   "id": "d0e10739",
   "metadata": {},
   "outputs": [],
   "source": [
    "# subscripted variables\n",
    "x1 = 3\n",
    "x2 = 10\n",
    "x3 = 44"
   ]
  },
  {
   "cell_type": "markdown",
   "id": "122f57ec",
   "metadata": {},
   "source": [
    "### Functions"
   ]
  },
  {
   "cell_type": "code",
   "execution_count": 9,
   "id": "8f779faf",
   "metadata": {},
   "outputs": [],
   "source": [
    "#out of time"
   ]
  },
  {
   "cell_type": "markdown",
   "id": "6ba8b7b1",
   "metadata": {},
   "source": [
    "### Summations\n",
    "<b> End before this topic"
   ]
  }
 ],
 "metadata": {
  "kernelspec": {
   "display_name": "Python 3 (ipykernel)",
   "language": "python",
   "name": "python3"
  },
  "language_info": {
   "codemirror_mode": {
    "name": "ipython",
    "version": 3
   },
   "file_extension": ".py",
   "mimetype": "text/x-python",
   "name": "python",
   "nbconvert_exporter": "python",
   "pygments_lexer": "ipython3",
   "version": "3.10.9"
  }
 },
 "nbformat": 4,
 "nbformat_minor": 5
}
