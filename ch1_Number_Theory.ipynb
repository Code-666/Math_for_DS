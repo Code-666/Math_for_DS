{
  "nbformat": 4,
  "nbformat_minor": 0,
  "metadata": {
    "colab": {
      "provenance": [],
      "toc_visible": true,
      "authorship_tag": "ABX9TyNtFBlPDdR1VTXEcXd3NRgk",
      "include_colab_link": true
    },
    "kernelspec": {
      "name": "python3",
      "display_name": "Python 3"
    },
    "language_info": {
      "name": "python"
    }
  },
  "cells": [
    {
      "cell_type": "markdown",
      "metadata": {
        "id": "view-in-github",
        "colab_type": "text"
      },
      "source": [
        "<a href=\"https://colab.research.google.com/github/Code-666/Math_for_DS/blob/master/ch1_Number_Theory.ipynb\" target=\"_parent\"><img src=\"https://colab.research.google.com/assets/colab-badge.svg\" alt=\"Open In Colab\"/></a>"
      ]
    },
    {
      "cell_type": "markdown",
      "source": [
        "#Number Theory"
      ],
      "metadata": {
        "id": "s6uU4EZxRHiH"
      }
    },
    {
      "cell_type": "markdown",
      "source": [
        "###*Natural numbers*\n",
        "\n",
        "1, 2, 3 ,4, 5...and so on\n"
      ],
      "metadata": {
        "id": "xQLPuAAEIp5C"
      }
    },
    {
      "cell_type": "markdown",
      "source": [
        "###*Whole numbers*\n",
        "\n",
        "Adds \"0\" to natural numbers\n",
        "\n",
        "place-holding notation for empty \"columns\" on numbers greater than 9, such as\n",
        "\"10\", \"1,000\", \"1,090\" those zeros indicate no value occupying that column."
      ],
      "metadata": {
        "id": "CtbAm9FhJ-1T"
      }
    },
    {
      "cell_type": "markdown",
      "source": [
        "###*Integers*\n",
        "Includes both positive and negative natural numbers as well as 0."
      ],
      "metadata": {
        "id": "BaPlyMy7LTse"
      }
    },
    {
      "cell_type": "markdown",
      "source": [
        "###*Rational numbers*\n",
        "Any number that you can express as a fraction, such as 2/3, is a rational number"
      ],
      "metadata": {
        "id": "YYOoMsbxMcdA"
      }
    },
    {
      "cell_type": "markdown",
      "source": [
        "###*Irrational numbers*\n",
        "\n",
        "Cannot be expressed as a fraction. Includes π, square roots of certain numbers like $\\sqrt{2}$, and Euler's number $e$\n"
      ],
      "metadata": {
        "id": "PecBKZU5M4-r"
      }
    },
    {
      "cell_type": "markdown",
      "source": [
        "###*Real numbers*\n",
        "\n",
        "Real numbers include rational as well as irrational numbers"
      ],
      "metadata": {
        "id": "IjFxhE1mPe-1"
      }
    },
    {
      "cell_type": "markdown",
      "source": [
        "###*Complex and imaginary numbers*\n",
        "Encounterd when take the square root of a negative number. While complex and imaginary numbers have relevance in certain problems, we will mostly steer clear of them"
      ],
      "metadata": {
        "id": "z43aPXWKQZcV"
      }
    },
    {
      "cell_type": "code",
      "source": [],
      "metadata": {
        "id": "RMeAoA6EJ8N1"
      },
      "execution_count": null,
      "outputs": []
    }
  ]
}